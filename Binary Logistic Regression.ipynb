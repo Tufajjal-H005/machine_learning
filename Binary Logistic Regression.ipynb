{
 "cells": [
  {
   "cell_type": "code",
   "execution_count": 1,
   "id": "3e3b4517-0052-42ff-b50b-dce16cb02811",
   "metadata": {},
   "outputs": [],
   "source": [
    "import numpy as np\n",
    "import pandas as pd\n",
    "import matplotlib.pyplot as plt"
   ]
  },
  {
   "cell_type": "code",
   "execution_count": 21,
   "id": "875c476f-b93d-4e62-8249-4165c61fc95a",
   "metadata": {},
   "outputs": [],
   "source": [
    "class BinaryRegularizesLogisticRegression():\n",
    "    \n",
    "    class fit():\n",
    "        def __init__(self,X,y,iterations=100000,lr=0.001,lamda=0.1):\n",
    "            \"\"\" Here, X contains covariates, y contains outcomes, lr = learning rate, lamda = reguralized term\n",
    "            dimension of X is m by n; \n",
    "            dimension of y is m by 1; \n",
    "            dimesion of W is n by 1\n",
    "            m = number of training set; \n",
    "            n = number of input features/covariates/variables \n",
    "            \"\"\"\n",
    "            # reshape x and y for coding convenient\n",
    "            X = X.T\n",
    "            y = y.T\n",
    "            \n",
    "            # determine m & n\n",
    "            self.m = X.shape[1]\n",
    "            self.n = X.shape[0]\n",
    "            self.lamda = lamda\n",
    "            self.lr = lr\n",
    "            self.iterations = iterations\n",
    "\n",
    "            # define theta. Remember dimesion has to be n by 1\n",
    "            W = np.zeros([self.n,1])\n",
    "            B = 0\n",
    "\n",
    "            cost_list = []\n",
    "\n",
    "            for i in range(iterations):\n",
    "                cost, W, B = self.cost_grad_function(X,y,W,B)\n",
    "                cost_list.append(cost)\n",
    "            self.W = W\n",
    "            self.B = B\n",
    "            self.all_cost = cost_list\n",
    "        \n",
    "        def iterations_vs_cost_graph(self):\n",
    "            plt.plot(np.arange( self.iterations), self.all_cost)\n",
    "            plt.xlabel(\"Number of iterations\")\n",
    "            plt.ylabel(\"Cost\")\n",
    "            plt.show()\n",
    "\n",
    "        def predict(self,X):\n",
    "            h = self.predict_proba(X)\n",
    "            y_predict = h > 0.5\n",
    "            y_predict = np.array(y_predict, dtype=\"int64\")\n",
    "            return y_predict\n",
    "\n",
    "        def predict_proba(self,X):\n",
    "            \"\"\" dimesion of X has to be number of test_set(m) by number of features(n)\"\"\"\n",
    "            z = np.dot(self.W.T,X.T) + self.B\n",
    "            h = self.sigmoid(z)\n",
    "            return h\n",
    "            \n",
    "        def accuracy(self, X_test, Y_test):\n",
    "            prediction = self.predict(X_test)\n",
    "            y_predict = prediction.T\n",
    "            return (1 - np.sum(np.abs(y_predict - Y_test))/Y_test.shape[0])*100      \n",
    "        \n",
    "        \n",
    "        def sigmoid(self,z):\n",
    "            return 1/(1+np.exp(-z))\n",
    "    \n",
    "        def cost_grad_function(self,X,y,W,B):\n",
    "            \"\"\" find the cost; \n",
    "            dimension of X is n by m; \n",
    "            dimension of y is 1 by m; \n",
    "            dimesion of W is n by 1\n",
    "            m = number of training set; \n",
    "            n = number of input features/covariates/variables \n",
    "            \"\"\"\n",
    "            z = np.dot(W.T,X) + B\n",
    "            h = self.sigmoid(z)\n",
    "            cost_before = -(1/self.m)*np.sum((y*np.log(h) + (1-y)*np.log(1-h)))\n",
    "            cost = cost_before + (self.lamda/(2*self.m))*np.sum(np.square(W))\n",
    "            \n",
    "            # gradient descent\n",
    "            dW = ((1/self.m)*np.dot((h - y), X.T)) + (self.lamda/self.m) * W.T\n",
    "            dW = dW.T\n",
    "            dB = (1/self.m)*np.sum(h - y)\n",
    "\n",
    "            W = W - self.lr*dW\n",
    "            B = B - self.lr*dB\n",
    "            return cost, W, B"
   ]
  },
  {
   "cell_type": "code",
   "execution_count": 22,
   "id": "315d6b3b-8bd4-45f4-a125-3122511a8ec4",
   "metadata": {},
   "outputs": [],
   "source": [
    "test_x = pd.read_csv(\"test_X.csv\")\n",
    "test_y = pd.read_csv(\"test_Y.csv\")\n",
    "train_x = pd.read_csv(\"train_X.csv\")\n",
    "train_y = pd.read_csv(\"train_Y.csv\")\n",
    "\n",
    "\n",
    "x_train = train_x.drop(\"Id\", axis = 1)\n",
    "x_test = test_x.drop(\"Id\", axis = 1)\n",
    "y_train = train_y.drop(\"Id\", axis =1)\n",
    "y_test = test_y.drop(\"Id\", axis = 1)\n",
    "\n",
    "\n",
    "X_train = x_train.values\n",
    "Y_train = y_train.values\n",
    "X_test = x_test.values\n",
    "Y_test = y_test.values"
   ]
  },
  {
   "cell_type": "code",
   "execution_count": 23,
   "id": "cb062a3a-9374-4760-bdd4-c52f6a29140b",
   "metadata": {},
   "outputs": [],
   "source": [
    "lg = BinaryRegularizesLogisticRegression()\n",
    "classifier = lg.fit(X_train, Y_train)"
   ]
  },
  {
   "cell_type": "code",
   "execution_count": 24,
   "id": "8df1e700-c81e-47ae-b2ca-cbcdb06f313a",
   "metadata": {},
   "outputs": [
    {
     "data": {
      "image/png": "[encoded data removed]",
      "text/plain": [
       "<Figure size 432x288 with 1 Axes>"
      ]
     },
     "metadata": {
      "needs_background": "light"
     },
     "output_type": "display_data"
    }
   ],
   "source": [
    "classifier.iterations_vs_cost_graph()"
   ]
  },
  {
   "cell_type": "code",
   "execution_count": 25,
   "id": "d8ac2f15-187a-45b0-b204-f5503240ac29",
   "metadata": {},
   "outputs": [
    {
     "data": {
      "text/plain": [
       "array([[0, 0, 0, 0, 1, 0]], dtype=int64)"
      ]
     },
     "execution_count": 25,
     "metadata": {},
     "output_type": "execute_result"
    }
   ],
   "source": [
    "classifier.predict(X_test[0:6,:])"
   ]
  },
  {
   "cell_type": "code",
   "execution_count": 26,
   "id": "201c8fdf-1168-46a4-9e76-b9f214e2de3c",
   "metadata": {},
   "outputs": [
    {
     "data": {
      "text/plain": [
       "array([[0.10323573, 0.48353973, 0.11715068, 0.12360462, 0.59604923,\n",
       "        0.15719856]])"
      ]
     },
     "execution_count": 26,
     "metadata": {},
     "output_type": "execute_result"
    }
   ],
   "source": [
    "classifier.predict_proba(X_test[0:6,:])"
   ]
  },
  {
   "cell_type": "code",
   "execution_count": 27,
   "id": "fe759019-8817-4c1f-b990-90e3aa2b1edc",
   "metadata": {},
   "outputs": [
    {
     "data": {
      "text/plain": [
       "92.10526315789474"
      ]
     },
     "execution_count": 27,
     "metadata": {},
     "output_type": "execute_result"
    }
   ],
   "source": [
    "classifier.accuracy(X_test, Y_test)"
   ]
  },
  {
   "cell_type": "code",
   "execution_count": null,
   "id": "1920715c-e477-49bd-8134-986bdfc74b4a",
   "metadata": {},
   "outputs": [],
   "source": []
  }
 ],
 "metadata": {
  "kernelspec": {
   "display_name": "Python 3",
   "language": "python",
   "name": "python3"
  },
  "language_info": {
   "codemirror_mode": {
    "name": "ipython",
    "version": 3
   },
   "file_extension": ".py",
   "mimetype": "text/x-python",
   "name": "python",
   "nbconvert_exporter": "python",
   "pygments_lexer": "ipython3",
   "version": "3.9.2"
  }
 },
 "nbformat": 4,
 "nbformat_minor": 5
}
