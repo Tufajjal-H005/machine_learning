{
 "cells": [
  {
   "cell_type": "code",
   "execution_count": 116,
   "id": "be104fe0-fc3e-4c0a-b352-04aee27903a3",
   "metadata": {},
   "outputs": [],
   "source": [
    "import numpy as np\n",
    "import pandas as pd\n",
    "import matplotlib.pyplot as plt"
   ]
  },
  {
   "cell_type": "code",
   "execution_count": 239,
   "id": "e9ea2a76-2ec5-4a88-868a-ee4d778d632a",
   "metadata": {},
   "outputs": [],
   "source": [
    "class LogisticRegression:\n",
    "    def sigmoid(self, z):\n",
    "        return 1/(1+np.exp(-z))\n",
    "    \n",
    "    class fit():\n",
    "        def __init__(self,X,y,itn = 100000, lr = 0.001):\n",
    "            \"\"\" dimension of X is m by n; \n",
    "            here, \n",
    "            m = #training set and \n",
    "            n = #features\n",
    "            dimension of y is m by 1\n",
    "            \"\"\"\n",
    "            self.iterations = itn;\n",
    "\n",
    "            # reshape our variables and outcomes for coding convenient\n",
    "            X = X.T\n",
    "            y = y.T\n",
    "\n",
    "            # determine m & n\n",
    "            m = X.shape[1]\n",
    "            n = X.shape[0]\n",
    "\n",
    "            # define theta. Remember, dimesion has to be n by 1\n",
    "            theta = np.zeros([n,1])\n",
    "            theta_0 = 0\n",
    "\n",
    "            cost_list = []\n",
    "\n",
    "\n",
    "            for i in range(itn):\n",
    "                # define h_theta\n",
    "                h_theta = np.dot(theta.T, X) + theta_0\n",
    "\n",
    "                # call sigmoid function\n",
    "                predicted_y = LogisticRegression().sigmoid(h_theta)\n",
    "\n",
    "                cost = (-1/m) *np.sum(y*np.log(predicted_y) + (1-y)*np.log(1-predicted_y))\n",
    "\n",
    "                #gradient descent\n",
    "                d_theta = np.dot((predicted_y - y), X.T)\n",
    "                d_theta = d_theta.T\n",
    "                d_theta_0 = np.sum(predicted_y - y)\n",
    "\n",
    "                theta = theta - (lr/m)*d_theta\n",
    "                theta_0 = theta_0 - (lr/m)*d_theta_0\n",
    "\n",
    "                #add the cost to the cost list\n",
    "                cost_list.append(cost)\n",
    "\n",
    "            #define the variables for the class\n",
    "            self.all_cost = cost_list\n",
    "            self.theta = theta\n",
    "            self.theta_0 = theta_0\n",
    "\n",
    "        def iterations_vs_cost_graph(self):\n",
    "            plt.plot(np.arange( self.iterations), self.all_cost)\n",
    "            plt.xlabel(\"Number of iterations\")\n",
    "            plt.ylabel(\"Cost\")\n",
    "            plt.show()\n",
    "\n",
    "        def predict(self,X):\n",
    "            theta = self.theta\n",
    "            theta_0 = self.theta_0\n",
    "            z = np.dot(theta.T,X.T) + theta_0\n",
    "            y_predict = LogisticRegression().sigmoid(z)\n",
    "            y_predict = y_predict > 0.5\n",
    "            y_predict = np.array(y_predict, dtype=\"int64\")\n",
    "            return y_predict\n",
    "\n",
    "        def predict_proba(self,X):\n",
    "            theta = self.theta\n",
    "            theta_0 = self.theta_0\n",
    "            z = np.dot(theta.T,X.T) + theta_0\n",
    "            return LogisticRegression().sigmoid(z)\n",
    "\n",
    "        def accuracy(self, X_test, Y_test):\n",
    "            theta = self.theta\n",
    "            theta_0 = self.theta_0\n",
    "            z = np.dot(theta.T,X_test.T) + theta_0\n",
    "            h = LogisticRegression().sigmoid(z)\n",
    "            y_predict = h > 0.5\n",
    "            y_predict = np.array(y_predict, dtype = \"int64\")\n",
    "            y_predict = y_predict.T\n",
    "\n",
    "            return (1 - np.sum(np.abs(y_predict - Y_test))/Y_test.shape[0])*100"
   ]
  },
  {
   "cell_type": "code",
   "execution_count": 240,
   "id": "f514ea19-ec69-4da5-b0d6-2444221a6c05",
   "metadata": {},
   "outputs": [],
   "source": [
    "test_x = pd.read_csv(\"test_X.csv\")\n",
    "test_y = pd.read_csv(\"test_Y.csv\")\n",
    "train_x = pd.read_csv(\"train_X.csv\")\n",
    "train_y = pd.read_csv(\"train_Y.csv\")\n",
    "\n",
    "\n",
    "x_train = train_x.drop(\"Id\", axis = 1)\n",
    "x_test = test_x.drop(\"Id\", axis = 1)\n",
    "y_train = train_y.drop(\"Id\", axis =1)\n",
    "y_test = test_y.drop(\"Id\", axis = 1)\n",
    "\n",
    "\n",
    "X_train = x_train.values\n",
    "Y_train = y_train.values\n",
    "X_test = x_test.values\n",
    "Y_test = y_test.values"
   ]
  },
  {
   "cell_type": "code",
   "execution_count": 241,
   "id": "de255168-a0ed-44e4-9776-ae3dbd4d8086",
   "metadata": {},
   "outputs": [],
   "source": [
    "lg = LogisticRegression()\n",
    "classifier = lg.fit(X_train, Y_train)"
   ]
  },
  {
   "cell_type": "code",
   "execution_count": 242,
   "id": "3408e7e4-ad11-41f5-8366-bb0224f7ae30",
   "metadata": {},
   "outputs": [
    {
     "data": {
      "image/png": "[encoded data removed]",
      "text/plain": [
       "<Figure size 432x288 with 1 Axes>"
      ]
     },
     "metadata": {
      "needs_background": "light"
     },
     "output_type": "display_data"
    }
   ],
   "source": [
    "classifier.iterations_vs_cost_graph()"
   ]
  },
  {
   "cell_type": "code",
   "execution_count": 246,
   "id": "fd0ce9aa-d398-47a5-8270-09a9c31afa1e",
   "metadata": {},
   "outputs": [
    {
     "data": {
      "text/plain": [
       "array([[0, 0, 0, 0, 1, 0]], dtype=int64)"
      ]
     },
     "execution_count": 246,
     "metadata": {},
     "output_type": "execute_result"
    }
   ],
   "source": [
    "classifier.predict(X_test[0:6,:])"
   ]
  },
  {
   "cell_type": "code",
   "execution_count": 247,
   "id": "de989985-b7ae-4b52-8835-159914aff3d7",
   "metadata": {},
   "outputs": [
    {
     "data": {
      "text/plain": [
       "array([[0.10288646, 0.48445698, 0.11688396, 0.1232051 , 0.59675765,\n",
       "        0.15672183]])"
      ]
     },
     "execution_count": 247,
     "metadata": {},
     "output_type": "execute_result"
    }
   ],
   "source": [
    "classifier.predict_proba(X_test[0:6,:])"
   ]
  },
  {
   "cell_type": "code",
   "execution_count": 248,
   "id": "d7e5ca1f-7cd4-4594-8a83-cdb7a7604303",
   "metadata": {},
   "outputs": [
    {
     "data": {
      "text/plain": [
       "92.10526315789474"
      ]
     },
     "execution_count": 248,
     "metadata": {},
     "output_type": "execute_result"
    }
   ],
   "source": [
    "classifier.accuracy(X_test, Y_test)"
   ]
  },
  {
   "cell_type": "code",
   "execution_count": null,
   "id": "1045cf5e-17f9-447e-ba0f-5c56fe6306cc",
   "metadata": {},
   "outputs": [],
   "source": []
  }
 ],
 "metadata": {
  "kernelspec": {
   "display_name": "Python 3",
   "language": "python",
   "name": "python3"
  },
  "language_info": {
   "codemirror_mode": {
    "name": "ipython",
    "version": 3
   },
   "file_extension": ".py",
   "mimetype": "text/x-python",
   "name": "python",
   "nbconvert_exporter": "python",
   "pygments_lexer": "ipython3",
   "version": "3.9.2"
  }
 },
 "nbformat": 4,
 "nbformat_minor": 5
}
